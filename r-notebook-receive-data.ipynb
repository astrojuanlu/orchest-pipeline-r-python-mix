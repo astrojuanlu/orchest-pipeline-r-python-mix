{
 "cells": [
  {
   "cell_type": "code",
   "execution_count": 1,
   "metadata": {},
   "outputs": [
    {
     "data": {
      "text/html": [
       "'/opt/conda/bin/python'"
      ],
      "text/latex": [
       "'/opt/conda/bin/python'"
      ],
      "text/markdown": [
       "'/opt/conda/bin/python'"
      ],
      "text/plain": [
       "[1] \"/opt/conda/bin/python\""
      ]
     },
     "metadata": {},
     "output_type": "display_data"
    }
   ],
   "source": [
    "python_path <- system(\"which python\", intern=TRUE); python_path"
   ]
  },
  {
   "cell_type": "code",
   "execution_count": 2,
   "metadata": {},
   "outputs": [
    {
     "data": {
      "text/html": [
       "'Python 3.7.6'"
      ],
      "text/latex": [
       "'Python 3.7.6'"
      ],
      "text/markdown": [
       "'Python 3.7.6'"
      ],
      "text/plain": [
       "[1] \"Python 3.7.6\""
      ]
     },
     "metadata": {},
     "output_type": "display_data"
    }
   ],
   "source": [
    "# Get the python version\n",
    "system(paste(python_path, \" --version\"), intern=TRUE)"
   ]
  },
  {
   "cell_type": "code",
   "execution_count": 3,
   "metadata": {},
   "outputs": [],
   "source": [
    "library(reticulate)\n",
    "use_python(\"/opt/conda/bin/python\")"
   ]
  },
  {
   "cell_type": "markdown",
   "metadata": {
    "tags": []
   },
   "source": [
    "#### Note\n",
    "\n",
    "This takes a while on first import, as it has to compile the Python code."
   ]
  },
  {
   "cell_type": "code",
   "execution_count": 4,
   "metadata": {},
   "outputs": [],
   "source": [
    "orchest <- import(\"orchest\")"
   ]
  },
  {
   "cell_type": "code",
   "execution_count": 5,
   "metadata": {},
   "outputs": [
    {
     "data": {
      "text/html": [
       "0.01"
      ],
      "text/latex": [
       "0.01"
      ],
      "text/markdown": [
       "0.01"
      ],
      "text/plain": [
       "[1] 0.01"
      ]
     },
     "metadata": {},
     "output_type": "display_data"
    }
   ],
   "source": [
    "step_inputs = orchest$get_inputs()\n",
    "\n",
    "step_inputs$Test"
   ]
  }
 ],
 "metadata": {
  "kernelspec": {
   "display_name": "R",
   "language": "r",
   "name": "orchest-kernel-d469c87b-cead-41d7-8bf1-c5f23a3a615c"
  },
  "language_info": {
   "codemirror_mode": "r",
   "file_extension": ".r",
   "mimetype": "text/x-r-source",
   "name": "R",
   "pygments_lexer": "r",
   "version": "3.6.3"
  }
 },
 "nbformat": 4,
 "nbformat_minor": 4
}
