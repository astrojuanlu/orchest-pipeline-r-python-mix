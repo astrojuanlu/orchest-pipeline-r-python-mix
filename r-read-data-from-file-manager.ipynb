{
 "cells": [
  {
   "cell_type": "code",
   "execution_count": 1,
   "metadata": {},
   "outputs": [
    {
     "data": {
      "text/html": [
       "<style>\n",
       ".list-inline {list-style: none; margin:0; padding: 0}\n",
       ".list-inline>li {display: inline-block}\n",
       ".list-inline>li:not(:last-child)::after {content: \"\\00b7\"; padding: 0 .5ex}\n",
       "</style>\n",
       "<ol class=list-inline><li>'cal_housing_py3.pkz'</li><li>'confusion-scrape-pipeline.csv'</li><li>'data_council_survey_data'</li><li>'ds_copy.txt'</li><li>'ds.txt'</li><li>'id_rsa'</li><li>'kaggle-housing'</li><li>'log-scrape-pipeline.csv'</li><li>'test.txt'</li><li>'wrong-examples-scrape-pipeline.csv'</li></ol>\n"
      ],
      "text/latex": [
       "\\begin{enumerate*}\n",
       "\\item 'cal\\_housing\\_py3.pkz'\n",
       "\\item 'confusion-scrape-pipeline.csv'\n",
       "\\item 'data\\_council\\_survey\\_data'\n",
       "\\item 'ds\\_copy.txt'\n",
       "\\item 'ds.txt'\n",
       "\\item 'id\\_rsa'\n",
       "\\item 'kaggle-housing'\n",
       "\\item 'log-scrape-pipeline.csv'\n",
       "\\item 'test.txt'\n",
       "\\item 'wrong-examples-scrape-pipeline.csv'\n",
       "\\end{enumerate*}\n"
      ],
      "text/markdown": [
       "1. 'cal_housing_py3.pkz'\n",
       "2. 'confusion-scrape-pipeline.csv'\n",
       "3. 'data_council_survey_data'\n",
       "4. 'ds_copy.txt'\n",
       "5. 'ds.txt'\n",
       "6. 'id_rsa'\n",
       "7. 'kaggle-housing'\n",
       "8. 'log-scrape-pipeline.csv'\n",
       "9. 'test.txt'\n",
       "10. 'wrong-examples-scrape-pipeline.csv'\n",
       "\n",
       "\n"
      ],
      "text/plain": [
       " [1] \"cal_housing_py3.pkz\"                \"confusion-scrape-pipeline.csv\"     \n",
       " [3] \"data_council_survey_data\"           \"ds_copy.txt\"                       \n",
       " [5] \"ds.txt\"                             \"id_rsa\"                            \n",
       " [7] \"kaggle-housing\"                     \"log-scrape-pipeline.csv\"           \n",
       " [9] \"test.txt\"                           \"wrong-examples-scrape-pipeline.csv\""
      ]
     },
     "metadata": {},
     "output_type": "display_data"
    }
   ],
   "source": [
    "system(\"ls /data\", intern=TRUE)"
   ]
  },
  {
   "cell_type": "code",
   "execution_count": 2,
   "metadata": {},
   "outputs": [],
   "source": [
    "testFilePath <- \"/data/test.txt\"\n",
    "\n",
    "# Write sample file (not necessary if you just want to read a particular file from /data)\n",
    "fileConn <- file(testFilePath)\n",
    "writeLines(c(\"Hello\", \"World\"), fileConn)\n",
    "close(fileConn)"
   ]
  },
  {
   "cell_type": "code",
   "execution_count": 3,
   "metadata": {},
   "outputs": [
    {
     "data": {
      "text/html": [
       "'Hello\\nWorld\\n'"
      ],
      "text/latex": [
       "'Hello\\textbackslash{}nWorld\\textbackslash{}n'"
      ],
      "text/markdown": [
       "'Hello\\nWorld\\n'"
      ],
      "text/plain": [
       "[1] \"Hello\\nWorld\\n\""
      ]
     },
     "metadata": {},
     "output_type": "display_data"
    }
   ],
   "source": [
    "readChar(testFilePath, file.info(testFilePath)$size)"
   ]
  }
 ],
 "metadata": {
  "kernelspec": {
   "display_name": "R",
   "language": "r",
   "name": "orchest-kernel-d469c87b-cead-41d7-8bf1-c5f23a3a615c"
  },
  "language_info": {
   "codemirror_mode": "r",
   "file_extension": ".r",
   "mimetype": "text/x-r-source",
   "name": "R",
   "pygments_lexer": "r",
   "version": "3.6.3"
  }
 },
 "nbformat": 4,
 "nbformat_minor": 4
}
